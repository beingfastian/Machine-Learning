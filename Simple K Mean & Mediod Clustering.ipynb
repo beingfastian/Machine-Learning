{
 "cells": [
  {
   "cell_type": "markdown",
   "id": "57171c39",
   "metadata": {},
   "source": [
    "20F-1106_L13"
   ]
  },
  {
   "cell_type": "markdown",
   "id": "bb299ce1",
   "metadata": {},
   "source": [
    "Task 1(Part a)"
   ]
  },
  {
   "cell_type": "code",
   "execution_count": 3,
   "id": "fbebe1bf",
   "metadata": {},
   "outputs": [
    {
     "name": "stdout",
     "output_type": "stream",
     "text": [
      "Cluster 1:\n",
      "Data point 2: [21, 15, 81]\n",
      "Data point 4: [23, 16, 77]\n",
      "Data point 6: [22, 17, 76]\n",
      "Data point 8: [23, 18, 94]\n",
      "Data point 10: [30, 19, 72]\n",
      "Data point 12: [35, 19, 99]\n",
      "Data point 14: [24, 20, 77]\n",
      "Data point 16: [22, 20, 79]\n",
      "Data point 18: [20, 21, 66]\n",
      "Data point 20: [35, 23, 98]\n",
      "\n",
      "Cluster 2:\n",
      "Data point 7: [35, 18, 6]\n",
      "Data point 9: [64, 19, 3]\n",
      "Data point 11: [67, 19, 14]\n",
      "Data point 13: [58, 20, 15]\n",
      "Data point 15: [37, 20, 13]\n",
      "Data point 19: [52, 23, 29]\n",
      "\n",
      "Cluster 3:\n",
      "Data point 1: [19, 15, 39]\n",
      "Data point 3: [20, 16, 6]\n",
      "Data point 5: [31, 17, 40]\n",
      "Data point 17: [35, 21, 35]\n",
      "\n"
     ]
    }
   ],
   "source": [
    "import csv\n",
    "import random\n",
    "import math\n",
    "\n",
    "# Load data from CSV file\n",
    "def get_data(file_path):\n",
    "    data = []\n",
    "    with open(file_path, 'r') as file:\n",
    "        reader = csv.reader(file)\n",
    "        next(reader)  # skip header\n",
    "        for row in reader:\n",
    "            data.append([int(row[2]), int(row[3]), int(row[4])])  # age, annual_income, spending_score\n",
    "    return data\n",
    "\n",
    "# Calculate distance between two points\n",
    "def calc_distance(point1, point2):\n",
    "    squared_diffs = [(x - y) ** 2 for x, y in zip(point1, point2)]\n",
    "    return math.sqrt(sum(squared_diffs))\n",
    "\n",
    "# Initialize cluster centers randomly\n",
    "def init_centers(data, num_clusters):\n",
    "    return random.sample(data, num_clusters)\n",
    "\n",
    "# Assign data points to nearest cluster center\n",
    "def assign_clusters(data, centers):\n",
    "    clusters = []\n",
    "    for point in data:\n",
    "        distances = [calc_distance(point, center) for center in centers]\n",
    "        nearest_cluster = distances.index(min(distances))\n",
    "        clusters.append(nearest_cluster)\n",
    "    return clusters\n",
    "\n",
    "# Update cluster centers based on assigned data points\n",
    "def update_centers(data, clusters, num_clusters):\n",
    "    new_centers = []\n",
    "    for i in range(num_clusters):\n",
    "        cluster_points = [point for point, cluster in zip(data, clusters) if cluster == i]\n",
    "        if cluster_points:\n",
    "            new_center = [sum(coords) / len(cluster_points) for coords in zip(*cluster_points)]\n",
    "            new_centers.append(new_center)\n",
    "        else:\n",
    "            new_centers.append(random.choice(data))  # If cluster is empty, choose random data point\n",
    "    return new_centers\n",
    "\n",
    "# K-Means clustering algorithm\n",
    "def kmeans_clustering(data, num_clusters, max_iterations=100):\n",
    "    centers = init_centers(data, num_clusters)\n",
    "    for _ in range(max_iterations):\n",
    "        clusters = assign_clusters(data, centers)\n",
    "        new_centers = update_centers(data, clusters, num_clusters)\n",
    "        if centers == new_centers:\n",
    "            break\n",
    "        centers = new_centers\n",
    "    return clusters, centers\n",
    "\n",
    "# Main function\n",
    "def main():\n",
    "    # Load data\n",
    "    file_path = 'Mall_Customers.csv'\n",
    "    data = get_data(file_path)\n",
    "    # Select first 20 data points\n",
    "    data = data[:20]\n",
    "    # Number of clusters\n",
    "    num_clusters = 3\n",
    "    # Run K-Means clustering\n",
    "    clusters, centers = kmeans_clustering(data, num_clusters)\n",
    "    # Print cluster assignments\n",
    "    for i in range(num_clusters):\n",
    "        print(f\"Cluster {i+1}:\")\n",
    "        for j, point in enumerate(data):\n",
    "            if clusters[j] == i:\n",
    "                print(f\"Data point {j+1}: {point}\")\n",
    "        print()\n",
    "\n",
    "if __name__ == \"__main__\":\n",
    "    main()"
   ]
  },
  {
   "cell_type": "markdown",
   "id": "8ed2b473",
   "metadata": {},
   "source": [
    "Task 1(part b)"
   ]
  },
  {
   "cell_type": "code",
   "execution_count": null,
   "id": "69af5c5b",
   "metadata": {},
   "outputs": [],
   "source": [
    "#!pip install pandas"
   ]
  },
  {
   "cell_type": "code",
   "execution_count": null,
   "id": "85b8bebe",
   "metadata": {},
   "outputs": [],
   "source": [
    "#!pip install numpy"
   ]
  },
  {
   "cell_type": "code",
   "execution_count": null,
   "id": "4710fcba",
   "metadata": {},
   "outputs": [],
   "source": [
    "#!pip install scikit-learn"
   ]
  },
  {
   "cell_type": "code",
   "execution_count": null,
   "id": "c1b4d16d",
   "metadata": {},
   "outputs": [],
   "source": [
    "#!pip install seaborn"
   ]
  },
  {
   "cell_type": "code",
   "execution_count": null,
   "id": "bd23abd9",
   "metadata": {},
   "outputs": [],
   "source": [
    "#!pip install matplotib"
   ]
  },
  {
   "cell_type": "code",
   "execution_count": 15,
   "id": "95c96d30",
   "metadata": {},
   "outputs": [
    {
     "name": "stderr",
     "output_type": "stream",
     "text": [
      "C:\\ProgramData\\anaconda3\\Lib\\site-packages\\sklearn\\cluster\\_kmeans.py:1412: FutureWarning: The default value of `n_init` will change from 10 to 'auto' in 1.4. Set the value of `n_init` explicitly to suppress the warning\n",
      "  super()._check_params_vs_input(X, default_n_init=10)\n",
      "C:\\ProgramData\\anaconda3\\Lib\\site-packages\\sklearn\\cluster\\_kmeans.py:1436: UserWarning: KMeans is known to have a memory leak on Windows with MKL, when there are less chunks than available threads. You can avoid it by setting the environment variable OMP_NUM_THREADS=1.\n",
      "  warnings.warn(\n",
      "C:\\ProgramData\\anaconda3\\Lib\\site-packages\\sklearn\\cluster\\_kmeans.py:1412: FutureWarning: The default value of `n_init` will change from 10 to 'auto' in 1.4. Set the value of `n_init` explicitly to suppress the warning\n",
      "  super()._check_params_vs_input(X, default_n_init=10)\n",
      "C:\\ProgramData\\anaconda3\\Lib\\site-packages\\sklearn\\cluster\\_kmeans.py:1436: UserWarning: KMeans is known to have a memory leak on Windows with MKL, when there are less chunks than available threads. You can avoid it by setting the environment variable OMP_NUM_THREADS=1.\n",
      "  warnings.warn(\n",
      "C:\\ProgramData\\anaconda3\\Lib\\site-packages\\sklearn\\cluster\\_kmeans.py:1412: FutureWarning: The default value of `n_init` will change from 10 to 'auto' in 1.4. Set the value of `n_init` explicitly to suppress the warning\n",
      "  super()._check_params_vs_input(X, default_n_init=10)\n",
      "C:\\ProgramData\\anaconda3\\Lib\\site-packages\\sklearn\\cluster\\_kmeans.py:1436: UserWarning: KMeans is known to have a memory leak on Windows with MKL, when there are less chunks than available threads. You can avoid it by setting the environment variable OMP_NUM_THREADS=1.\n",
      "  warnings.warn(\n",
      "C:\\ProgramData\\anaconda3\\Lib\\site-packages\\sklearn\\cluster\\_kmeans.py:1412: FutureWarning: The default value of `n_init` will change from 10 to 'auto' in 1.4. Set the value of `n_init` explicitly to suppress the warning\n",
      "  super()._check_params_vs_input(X, default_n_init=10)\n",
      "C:\\ProgramData\\anaconda3\\Lib\\site-packages\\sklearn\\cluster\\_kmeans.py:1436: UserWarning: KMeans is known to have a memory leak on Windows with MKL, when there are less chunks than available threads. You can avoid it by setting the environment variable OMP_NUM_THREADS=1.\n",
      "  warnings.warn(\n",
      "C:\\ProgramData\\anaconda3\\Lib\\site-packages\\sklearn\\cluster\\_kmeans.py:1412: FutureWarning: The default value of `n_init` will change from 10 to 'auto' in 1.4. Set the value of `n_init` explicitly to suppress the warning\n",
      "  super()._check_params_vs_input(X, default_n_init=10)\n",
      "C:\\ProgramData\\anaconda3\\Lib\\site-packages\\sklearn\\cluster\\_kmeans.py:1436: UserWarning: KMeans is known to have a memory leak on Windows with MKL, when there are less chunks than available threads. You can avoid it by setting the environment variable OMP_NUM_THREADS=1.\n",
      "  warnings.warn(\n",
      "C:\\ProgramData\\anaconda3\\Lib\\site-packages\\sklearn\\cluster\\_kmeans.py:1412: FutureWarning: The default value of `n_init` will change from 10 to 'auto' in 1.4. Set the value of `n_init` explicitly to suppress the warning\n",
      "  super()._check_params_vs_input(X, default_n_init=10)\n",
      "C:\\ProgramData\\anaconda3\\Lib\\site-packages\\sklearn\\cluster\\_kmeans.py:1436: UserWarning: KMeans is known to have a memory leak on Windows with MKL, when there are less chunks than available threads. You can avoid it by setting the environment variable OMP_NUM_THREADS=1.\n",
      "  warnings.warn(\n",
      "C:\\ProgramData\\anaconda3\\Lib\\site-packages\\sklearn\\cluster\\_kmeans.py:1412: FutureWarning: The default value of `n_init` will change from 10 to 'auto' in 1.4. Set the value of `n_init` explicitly to suppress the warning\n",
      "  super()._check_params_vs_input(X, default_n_init=10)\n",
      "C:\\ProgramData\\anaconda3\\Lib\\site-packages\\sklearn\\cluster\\_kmeans.py:1436: UserWarning: KMeans is known to have a memory leak on Windows with MKL, when there are less chunks than available threads. You can avoid it by setting the environment variable OMP_NUM_THREADS=1.\n",
      "  warnings.warn(\n",
      "C:\\ProgramData\\anaconda3\\Lib\\site-packages\\sklearn\\cluster\\_kmeans.py:1412: FutureWarning: The default value of `n_init` will change from 10 to 'auto' in 1.4. Set the value of `n_init` explicitly to suppress the warning\n",
      "  super()._check_params_vs_input(X, default_n_init=10)\n",
      "C:\\ProgramData\\anaconda3\\Lib\\site-packages\\sklearn\\cluster\\_kmeans.py:1436: UserWarning: KMeans is known to have a memory leak on Windows with MKL, when there are less chunks than available threads. You can avoid it by setting the environment variable OMP_NUM_THREADS=1.\n",
      "  warnings.warn(\n",
      "C:\\ProgramData\\anaconda3\\Lib\\site-packages\\sklearn\\cluster\\_kmeans.py:1412: FutureWarning: The default value of `n_init` will change from 10 to 'auto' in 1.4. Set the value of `n_init` explicitly to suppress the warning\n",
      "  super()._check_params_vs_input(X, default_n_init=10)\n",
      "C:\\ProgramData\\anaconda3\\Lib\\site-packages\\sklearn\\cluster\\_kmeans.py:1436: UserWarning: KMeans is known to have a memory leak on Windows with MKL, when there are less chunks than available threads. You can avoid it by setting the environment variable OMP_NUM_THREADS=1.\n",
      "  warnings.warn(\n",
      "C:\\ProgramData\\anaconda3\\Lib\\site-packages\\sklearn\\cluster\\_kmeans.py:1412: FutureWarning: The default value of `n_init` will change from 10 to 'auto' in 1.4. Set the value of `n_init` explicitly to suppress the warning\n",
      "  super()._check_params_vs_input(X, default_n_init=10)\n",
      "C:\\ProgramData\\anaconda3\\Lib\\site-packages\\sklearn\\cluster\\_kmeans.py:1436: UserWarning: KMeans is known to have a memory leak on Windows with MKL, when there are less chunks than available threads. You can avoid it by setting the environment variable OMP_NUM_THREADS=1.\n",
      "  warnings.warn(\n"
     ]
    },
    {
     "data": {
      "image/png": "[encoded data removed]",
      "text/plain": [
       "<Figure size 640x480 with 1 Axes>"
      ]
     },
     "metadata": {},
     "output_type": "display_data"
    },
    {
     "name": "stderr",
     "output_type": "stream",
     "text": [
      "C:\\ProgramData\\anaconda3\\Lib\\site-packages\\sklearn\\cluster\\_kmeans.py:1412: FutureWarning: The default value of `n_init` will change from 10 to 'auto' in 1.4. Set the value of `n_init` explicitly to suppress the warning\n",
      "  super()._check_params_vs_input(X, default_n_init=10)\n",
      "C:\\ProgramData\\anaconda3\\Lib\\site-packages\\sklearn\\cluster\\_kmeans.py:1436: UserWarning: KMeans is known to have a memory leak on Windows with MKL, when there are less chunks than available threads. You can avoid it by setting the environment variable OMP_NUM_THREADS=1.\n",
      "  warnings.warn(\n"
     ]
    },
    {
     "data": {
      "image/png": "[encoded data removed]",
      "text/plain": [
       "<Figure size 640x480 with 1 Axes>"
      ]
     },
     "metadata": {},
     "output_type": "display_data"
    }
   ],
   "source": [
    "# Importing Libraries\n",
    "import pandas as pd\n",
    "import numpy as np\n",
    "import seaborn as sns\n",
    "import matplotlib.pyplot as plt\n",
    "from sklearn.cluster import KMeans\n",
    "\n",
    "# Importing the dataset\n",
    "dataset = pd.read_csv('Mall_Customers.csv')\n",
    "\n",
    "# Using the elbow method to find the optimal number of clusters\n",
    "X = dataset.iloc[:20, [2, 3, 4]].values  # considering age, annual income, and spending score for clustering\n",
    "wcss = []\n",
    "for i in range(1, 11):\n",
    "    kmeans = KMeans(n_clusters=i, init='k-means++', random_state=42)\n",
    "    kmeans.fit(X)\n",
    "    wcss.append(kmeans.inertia_)\n",
    "plt.plot(range(1, 11), wcss)\n",
    "plt.title('Elbow Method')\n",
    "plt.xlabel('Number of clusters')\n",
    "plt.ylabel('WCSS')\n",
    "plt.show()\n",
    "\n",
    "# Fitting K-Means to the dataset with the optimal number of clusters\n",
    "kmeans = KMeans(n_clusters=3, init='k-means++', random_state=42)\n",
    "y_kmeans = kmeans.fit_predict(X)\n",
    "\n",
    "# Visualizing the clusters\n",
    "plt.scatter(X[y_kmeans == 0, 0], X[y_kmeans == 0, 1], s=100, c='red', label='Cluster 1')\n",
    "plt.scatter(X[y_kmeans == 1, 0], X[y_kmeans == 1, 1], s=100, c='blue', label='Cluster 2')\n",
    "plt.scatter(X[y_kmeans == 2, 0], X[y_kmeans == 2, 1], s=100, c='green', label='Cluster 3')\n",
    "plt.scatter(kmeans.cluster_centers_[:, 0], kmeans.cluster_centers_[:, 1], s=300, c='yellow', label='Centroids')\n",
    "plt.title('Clusters of customers (First 20 datasets)')\n",
    "plt.xlabel('Age')\n",
    "plt.ylabel('Annual Income (k$)')\n",
    "plt.legend()\n",
    "plt.show()\n"
   ]
  },
  {
   "cell_type": "markdown",
   "id": "75c7de3d",
   "metadata": {},
   "source": [
    "Task 2(part a)"
   ]
  },
  {
   "cell_type": "code",
   "execution_count": 12,
   "id": "e11316d8",
   "metadata": {
    "scrolled": false
   },
   "outputs": [
    {
     "name": "stdout",
     "output_type": "stream",
     "text": [
      "Cluster Assignments:\n",
      "Data point 0: Cluster 2\n",
      "Data point 1: Cluster 0\n",
      "Data point 2: Cluster 0\n",
      "Data point 3: Cluster 4\n",
      "Data point 4: Cluster 3\n",
      "Data point 5: Cluster 1\n",
      "Data point 6: Cluster 4\n",
      "Data point 7: Cluster 1\n",
      "Data point 8: Cluster 1\n",
      "Data point 9: Cluster 4\n",
      "Data point 10: Cluster 1\n",
      "Data point 11: Cluster 4\n",
      "Data point 12: Cluster 4\n",
      "Data point 13: Cluster 1\n",
      "Data point 14: Cluster 0\n",
      "Data point 15: Cluster 1\n",
      "Data point 16: Cluster 0\n",
      "Data point 17: Cluster 2\n",
      "Data point 18: Cluster 1\n",
      "Data point 19: Cluster 0\n",
      "\n",
      "Medoids:\n",
      "Cluster 0 Medoid: [2772.772734, 1.0, 0.0, 0.0, 0.0, 346.81139, 0.0, 0.0, 0.0, 0.083333, 1.0, 0.0]\n",
      "Cluster 1 Medoid: [1293.124939, 1.0, 920.12, 0.0, 920.12, 0.0, 1.0, 0.0, 1.0, 0.0, 0.0, 12.0]\n",
      "Cluster 2 Medoid: [40.900749, 0.818182, 95.4, 0.0, 95.4, 0.0, 0.166667, 0.0, 0.083333, 0.0, 0.0, 2.0]\n",
      "Cluster 3 Medoid: [817.714335, 1.0, 16.0, 16.0, 0.0, 0.0, 0.083333, 0.083333, 0.0, 0.0, 0.0, 1.0]\n",
      "Cluster 4 Medoid: [630.794744, 0.818182, 1492.18, 1492.18, 0.0, 0.0, 0.25, 0.25, 0.0, 0.0, 0.0, 6.0]\n"
     ]
    }
   ],
   "source": [
    "import csv\n",
    "import random\n",
    "\n",
    "# Load data from CSV file\n",
    "dataset = []\n",
    "with open('CC GENERAL.csv', 'r') as file:\n",
    "    reader = csv.reader(file)\n",
    "    next(reader)  # Skip header\n",
    "    for row in reader:\n",
    "        dataset.append([float(x) for x in row[1:13]])\n",
    "\n",
    "# Define distance metric\n",
    "def calculate_distance(point1, point2):\n",
    "    return sum(abs(a - b) for a, b in zip(point1, point2))\n",
    "\n",
    "# Define clustering function\n",
    "def cluster_data(data, num_clusters, max_iterations=100):\n",
    "    n = len(data)\n",
    "    # Initialize medoids randomly\n",
    "    medoid_indices = random.sample(range(n), num_clusters)\n",
    "    medoids = [data[i] for i in medoid_indices]\n",
    "\n",
    "    for _ in range(max_iterations):\n",
    "        # Assign each data point to the nearest medoid\n",
    "        clusters = []\n",
    "        for point in data:\n",
    "            distances = [calculate_distance(point, medoid) for medoid in medoids]\n",
    "            cluster = distances.index(min(distances))\n",
    "            clusters.append(cluster)\n",
    "        \n",
    "        # Update medoids\n",
    "        for i in range(num_clusters):\n",
    "            cluster_points = [data[j] for j in range(n) if clusters[j] == i]\n",
    "            total_distance = [sum(calculate_distance(point, other_point) for other_point in cluster_points) for point in cluster_points]\n",
    "            new_medoid_idx = total_distance.index(min(total_distance))\n",
    "            medoids[i] = cluster_points[new_medoid_idx]\n",
    "    \n",
    "    return clusters, medoids\n",
    "\n",
    "# Set the number of clusters\n",
    "num_clusters = 5\n",
    "\n",
    "# Perform clustering\n",
    "clusters, medoids = cluster_data(dataset[:20], num_clusters)\n",
    "\n",
    "# Print cluster assignments and medoids\n",
    "print(\"Cluster Assignments:\")\n",
    "for i in range(len(clusters)):\n",
    "    print(f\"Data point {i}: Cluster {clusters[i]}\")\n",
    "\n",
    "print(\"\\nMedoids:\")\n",
    "for i, medoid in enumerate(medoids):\n",
    "    print(f\"Cluster {i} Medoid: {medoid}\")"
   ]
  },
  {
   "cell_type": "markdown",
   "id": "f3d7ea43",
   "metadata": {},
   "source": [
    "Task 2(Part b)"
   ]
  },
  {
   "cell_type": "code",
   "execution_count": null,
   "id": "2613da96",
   "metadata": {},
   "outputs": [],
   "source": [
    "#!pip install pandas"
   ]
  },
  {
   "cell_type": "code",
   "execution_count": null,
   "id": "7dca7fd2",
   "metadata": {},
   "outputs": [],
   "source": [
    "#!pip install numpy"
   ]
  },
  {
   "cell_type": "code",
   "execution_count": null,
   "id": "87dbeb0b",
   "metadata": {},
   "outputs": [],
   "source": [
    "#!pip install scikit-learn"
   ]
  },
  {
   "cell_type": "code",
   "execution_count": null,
   "id": "3bbfed8e",
   "metadata": {},
   "outputs": [],
   "source": [
    "#!pip install scikit-learn-extra"
   ]
  },
  {
   "cell_type": "code",
   "execution_count": null,
   "id": "3eb7f35a",
   "metadata": {},
   "outputs": [],
   "source": [
    "#!pip install seaborn"
   ]
  },
  {
   "cell_type": "code",
   "execution_count": null,
   "id": "641588a2",
   "metadata": {},
   "outputs": [],
   "source": [
    "#!pip install matplotib"
   ]
  },
  {
   "cell_type": "code",
   "execution_count": null,
   "id": "74d7e3c4",
   "metadata": {
    "scrolled": true
   },
   "outputs": [],
   "source": [
    "# Importing Libraries\n",
    "import pandas as pd\n",
    "import numpy as np\n",
    "from sklearn_extra.cluster import KMedoids\n",
    "import seaborn as sns\n",
    "import matplotlib.pyplot as plt\n",
    "\n",
    "# Importing the dataset\n",
    "data = pd.read_csv('CC GENERAL.csv')\n",
    "\n",
    "# Drop irrelevant columns like customer ID\n",
    "data = data.drop(columns=['CUST_ID'])\n",
    "\n",
    "# Handling missing values\n",
    "data.fillna(method='ffill', inplace=True)\n",
    "\n",
    "# Using the elbow method to find the optimal number of clusters\n",
    "distortions = []\n",
    "K = range(1, 11)\n",
    "for k in K:\n",
    "    kmedoids = KMedoids(n_clusters=k, random_state=42)\n",
    "    kmedoids.fit(data)\n",
    "    distortions.append(kmedoids.inertia_)\n",
    "\n",
    "# Plotting the elbow curve\n",
    "plt.figure(figsize=(10, 6))\n",
    "plt.plot(K, distortions, 'bx-')\n",
    "plt.xlabel('Number of Clusters')\n",
    "plt.ylabel('Distortion')\n",
    "plt.title('The Elbow Method to Find the Optimal Number of Clusters')\n",
    "plt.show()\n",
    "\n",
    "# Fitting K-Medoid to the dataset with the optimal number of clusters\n",
    "optimal_k = 5  # Choose the optimal number of clusters based on the elbow method\n",
    "kmedoids = KMedoids(n_clusters=optimal_k, random_state=42)\n",
    "kmedoids.fit(data)\n",
    "\n",
    "# Adding cluster labels to the original dataset\n",
    "data['Cluster'] = kmedoids.labels_\n",
    "\n",
    "# Visualizing the clusters\n",
    "sns.pairplot(data=data, hue='Cluster', diag_kind='kde')\n",
    "plt.show()\n"
   ]
  }
 ],
 "metadata": {
  "kernelspec": {
   "display_name": "Python 3 (ipykernel)",
   "language": "python",
   "name": "python3"
  },
  "language_info": {
   "codemirror_mode": {
    "name": "ipython",
    "version": 3
   },
   "file_extension": ".py",
   "mimetype": "text/x-python",
   "name": "python",
   "nbconvert_exporter": "python",
   "pygments_lexer": "ipython3",
   "version": "3.11.4"
  }
 },
 "nbformat": 4,
 "nbformat_minor": 5
}
